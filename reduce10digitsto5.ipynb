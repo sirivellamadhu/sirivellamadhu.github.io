{
  "nbformat": 4,
  "nbformat_minor": 0,
  "metadata": {
    "colab": {
      "name": "reduce10digitsto5.ipynb",
      "version": "0.3.2",
      "provenance": [],
      "include_colab_link": true
    },
    "kernelspec": {
      "name": "python3",
      "display_name": "Python 3"
    }
  },
  "cells": [
    {
      "cell_type": "markdown",
      "metadata": {
        "id": "view-in-github",
        "colab_type": "text"
      },
      "source": [
        "<a href=\"https://colab.research.google.com/github/sirivellamadhu/sirivellamadhu.github.io/blob/master/reduce10digitsto5.ipynb\" target=\"_parent\"><img src=\"https://colab.research.google.com/assets/colab-badge.svg\" alt=\"Open In Colab\"/></a>"
      ]
    },
    {
      "cell_type": "code",
      "metadata": {
        "id": "q3Kepuk28v50",
        "colab_type": "code",
        "colab": {}
      },
      "source": [
        "import tensorflow  as tf\n",
        "import numpy as np\n",
        "import matplotlib.pyplot as plt\n",
        "%matplotlib inline"
      ],
      "execution_count": 0,
      "outputs": []
    },
    {
      "cell_type": "code",
      "metadata": {
        "id": "YYZbNYnt81Hp",
        "colab_type": "code",
        "colab": {}
      },
      "source": [
        "(x_train, y_train) ,(x_test, y_test) = tf.keras.datasets.mnist.load_data()"
      ],
      "execution_count": 0,
      "outputs": []
    },
    {
      "cell_type": "code",
      "metadata": {
        "id": "_0QsWk1j84Wo",
        "colab_type": "code",
        "colab": {
          "base_uri": "https://localhost:8080/",
          "height": 357
        },
        "outputId": "1b0c342e-9867-4a92-9019-588a94846eab"
      },
      "source": [
        "for i in range(20):\n",
        "  print(y_train[i])"
      ],
      "execution_count": 47,
      "outputs": [
        {
          "output_type": "stream",
          "text": [
            "5\n",
            "0\n",
            "4\n",
            "1\n",
            "9\n",
            "2\n",
            "1\n",
            "3\n",
            "1\n",
            "4\n",
            "3\n",
            "5\n",
            "3\n",
            "6\n",
            "1\n",
            "7\n",
            "2\n",
            "8\n",
            "6\n",
            "9\n"
          ],
          "name": "stdout"
        }
      ]
    },
    {
      "cell_type": "code",
      "metadata": {
        "id": "JE46F9R49WW-",
        "colab_type": "code",
        "colab": {}
      },
      "source": [
        "#0as4 1as7 2as5  3as8 6as9\n",
        "\n",
        "y_train = np.where(y_train==6,  4,  y_train)\n",
        "y_train = np.where(y_train==7,  1,  y_train)\n",
        "y_train = np.where(y_train==5,  2,  y_train)\n",
        "y_train = np.where(y_train==8,  3,  y_train)\n",
        "y_train = np.where(y_train==9,  0,  y_train)"
      ],
      "execution_count": 0,
      "outputs": []
    },
    {
      "cell_type": "code",
      "metadata": {
        "id": "4XahD-x5-uqi",
        "colab_type": "code",
        "colab": {}
      },
      "source": [
        "#0as4 1as7 2as5  3as8 6as9\n",
        "\n",
        "y_test = np.where(y_test==6,  4,  y_test)\n",
        "y_test = np.where(y_test==7,  1,  y_test)\n",
        "y_test = np.where(y_test==5,  2,  y_test)\n",
        "y_test = np.where(y_test==8,  3,  y_test)\n",
        "y_test = np.where(y_test==9,  0,  y_test)\n"
      ],
      "execution_count": 0,
      "outputs": []
    },
    {
      "cell_type": "code",
      "metadata": {
        "id": "B_TaWKoUAEgp",
        "colab_type": "code",
        "colab": {
          "base_uri": "https://localhost:8080/",
          "height": 357
        },
        "outputId": "80820fb1-03f3-46f9-8315-8ec33dfa281a"
      },
      "source": [
        "for i in range(20):\n",
        "  print(y_train[i])"
      ],
      "execution_count": 50,
      "outputs": [
        {
          "output_type": "stream",
          "text": [
            "1\n",
            "2\n",
            "1\n",
            "0\n",
            "4\n",
            "1\n",
            "4\n",
            "0\n",
            "2\n",
            "0\n",
            "0\n",
            "4\n",
            "0\n",
            "0\n",
            "1\n",
            "2\n",
            "0\n",
            "1\n",
            "3\n",
            "4\n"
          ],
          "name": "stdout"
        }
      ]
    },
    {
      "cell_type": "code",
      "metadata": {
        "id": "5QFPuOEYBUDV",
        "colab_type": "code",
        "colab": {}
      },
      "source": [
        "x_train = x_train.reshape(x_train.shape[0], 28, 28, 1)\n",
        "x_test = x_test.reshape(x_test.shape[0], 28, 28, 1)"
      ],
      "execution_count": 0,
      "outputs": []
    },
    {
      "cell_type": "code",
      "metadata": {
        "id": "YY4dtKwVAl1i",
        "colab_type": "code",
        "colab": {}
      },
      "source": [
        "input_shape = (28, 28, 1)"
      ],
      "execution_count": 0,
      "outputs": []
    },
    {
      "cell_type": "code",
      "metadata": {
        "id": "sZMFZjOFALG-",
        "colab_type": "code",
        "colab": {}
      },
      "source": [
        "x_train = x_train.astype('float32')\n",
        "x_test = x_test.astype('float32')\n",
        "x_train /= 255\n",
        "x_test /= 255"
      ],
      "execution_count": 0,
      "outputs": []
    },
    {
      "cell_type": "code",
      "metadata": {
        "id": "eR5qdUjkAcKS",
        "colab_type": "code",
        "colab": {}
      },
      "source": [
        "# Importing the required Keras modules containing model and layers\n",
        "from keras.models import Sequential\n",
        "from keras.layers import Dense, Conv2D, Dropout, Flatten, MaxPooling2D\n",
        "# Creating a Sequential Model and adding the layers\n",
        "model = Sequential()\n",
        "model.add(Conv2D(28, kernel_size=(3,3), input_shape=input_shape))\n",
        "model.add(MaxPooling2D(pool_size=(2, 2)))\n",
        "model.add(Flatten()) # Flattening the 2D arrays for fully connected layers\n",
        "model.add(Dense(128, activation=tf.nn.relu))\n",
        "model.add(Dropout(0.2))\n",
        "model.add(Dense(5,activation=tf.nn.softmax))"
      ],
      "execution_count": 0,
      "outputs": []
    },
    {
      "cell_type": "code",
      "metadata": {
        "id": "k7K0YX4UAf7C",
        "colab_type": "code",
        "colab": {
          "base_uri": "https://localhost:8080/",
          "height": 374
        },
        "outputId": "56ed2ba9-f005-485e-ec60-e75b38d5e7c3"
      },
      "source": [
        "model.compile(optimizer='adam', \n",
        "              loss='sparse_categorical_crossentropy', \n",
        "              metrics=['accuracy'])\n",
        "model.fit(x=x_train,y=y_train, epochs=10)"
      ],
      "execution_count": 55,
      "outputs": [
        {
          "output_type": "stream",
          "text": [
            "Epoch 1/10\n",
            "60000/60000 [==============================] - 38s 635us/step - loss: 0.1885 - acc: 0.9377\n",
            "Epoch 2/10\n",
            "60000/60000 [==============================] - 37s 621us/step - loss: 0.0844 - acc: 0.9733\n",
            "Epoch 3/10\n",
            "60000/60000 [==============================] - 37s 616us/step - loss: 0.0599 - acc: 0.9804\n",
            "Epoch 4/10\n",
            "60000/60000 [==============================] - 37s 613us/step - loss: 0.0469 - acc: 0.9848\n",
            "Epoch 5/10\n",
            "60000/60000 [==============================] - 37s 619us/step - loss: 0.0376 - acc: 0.9878\n",
            "Epoch 6/10\n",
            "60000/60000 [==============================] - 37s 618us/step - loss: 0.0306 - acc: 0.9891\n",
            "Epoch 7/10\n",
            "60000/60000 [==============================] - 37s 620us/step - loss: 0.0277 - acc: 0.9904\n",
            "Epoch 8/10\n",
            "60000/60000 [==============================] - 37s 623us/step - loss: 0.0231 - acc: 0.9918\n",
            "Epoch 9/10\n",
            "60000/60000 [==============================] - 37s 620us/step - loss: 0.0207 - acc: 0.9931\n",
            "Epoch 10/10\n",
            "60000/60000 [==============================] - 37s 625us/step - loss: 0.0180 - acc: 0.9940\n"
          ],
          "name": "stdout"
        },
        {
          "output_type": "execute_result",
          "data": {
            "text/plain": [
              "<keras.callbacks.History at 0x7fe08802f4a8>"
            ]
          },
          "metadata": {
            "tags": []
          },
          "execution_count": 55
        }
      ]
    },
    {
      "cell_type": "code",
      "metadata": {
        "id": "-otcb_PbAr9O",
        "colab_type": "code",
        "colab": {
          "base_uri": "https://localhost:8080/",
          "height": 51
        },
        "outputId": "5b101467-7b4c-4116-9053-da8708caaaaa"
      },
      "source": [
        "model.evaluate(x_test, y_test)\n"
      ],
      "execution_count": 56,
      "outputs": [
        {
          "output_type": "stream",
          "text": [
            "10000/10000 [==============================] - 2s 166us/step\n"
          ],
          "name": "stdout"
        },
        {
          "output_type": "execute_result",
          "data": {
            "text/plain": [
              "[0.061150615554935575, 0.9832]"
            ]
          },
          "metadata": {
            "tags": []
          },
          "execution_count": 56
        }
      ]
    },
    {
      "cell_type": "code",
      "metadata": {
        "id": "FQdEoDfpDf2N",
        "colab_type": "code",
        "colab": {}
      },
      "source": [
        "test_predictions = model.predict_classes(x_test)"
      ],
      "execution_count": 0,
      "outputs": []
    },
    {
      "cell_type": "code",
      "metadata": {
        "id": "IMS2CHhHDmPo",
        "colab_type": "code",
        "colab": {
          "base_uri": "https://localhost:8080/",
          "height": 102
        },
        "outputId": "7b1f569f-ea02-4cf9-cf83-bfa7f7e4aea0"
      },
      "source": [
        "from sklearn.metrics import confusion_matrix\n",
        "cm = confusion_matrix(y_true = y_test, y_pred = test_predictions)\n",
        "print(cm)\n"
      ],
      "execution_count": 59,
      "outputs": [
        {
          "output_type": "stream",
          "text": [
            "[[1964    7    8    4    6]\n",
            " [   5 2142   11    3    2]\n",
            " [   6   12 1889   13    4]\n",
            " [   9    7   25 1939    4]\n",
            " [  21    6   11    4 1898]]\n"
          ],
          "name": "stdout"
        }
      ]
    },
    {
      "cell_type": "code",
      "metadata": {
        "id": "RXHS1ObADo5S",
        "colab_type": "code",
        "colab": {}
      },
      "source": [
        ""
      ],
      "execution_count": 0,
      "outputs": []
    }
  ]
}